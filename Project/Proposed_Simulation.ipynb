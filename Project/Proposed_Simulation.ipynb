{
 "cells": [
  {
   "metadata": {},
   "cell_type": "markdown",
   "source": [
    "# Script to Run the Proposed Inventory Model Simulation\n",
    "\n",
    "## Import"
   ],
   "id": "598569c65c57c49a"
  },
  {
   "metadata": {
    "ExecuteTime": {
     "end_time": "2024-08-19T15:48:37.492477Z",
     "start_time": "2024-08-19T15:48:37.479476Z"
    }
   },
   "cell_type": "code",
   "source": [
    "import math\n",
    "import pandas as pd\n",
    "import numpy as np\n",
    "from scipy import stats"
   ],
   "id": "591aff87659254b",
   "outputs": [],
   "execution_count": 4
  },
  {
   "metadata": {},
   "cell_type": "markdown",
   "source": "## Initialize Parameters ",
   "id": "49cc9ab22b0ed9e2"
  },
  {
   "metadata": {
    "ExecuteTime": {
     "end_time": "2024-08-19T15:48:53.221094Z",
     "start_time": "2024-08-19T15:48:53.194991Z"
    }
   },
   "cell_type": "code",
   "source": [
    "def get_demand_statistics(data):\n",
    "    return data.mean(), data.std()\n",
    "\n",
    "def calculate_rq_parameters(params, demand_data):\n",
    "    # Unpack parameters\n",
    "    L = params['L']  \n",
    "    m = params['m']  \n",
    "    K = params['K']  \n",
    "    h = params['h']  \n",
    "    c = params['c']  \n",
    "    w = params['w'] \n",
    "    p = params['p']  \n",
    "    \n",
    "    # Get demand statistics\n",
    "    mean_demand, std_demand = get_demand_statistics(demand_data)\n",
    "    \n",
    "    # Determine base order quantity (Q_base)\n",
    "    # Modified EOQ formula considering outdating cost\n",
    "    annual_demand = mean_demand * 365\n",
    "    EOQ = math.sqrt((2 * K * annual_demand) / (h + w * (1/m)))\n",
    "    Q_base = min(EOQ, mean_demand * m)\n",
    "    \n",
    "    # Determine base reorder point (r_base)\n",
    "    # Demand during lead time\n",
    "    DL = mean_demand * L\n",
    "    \n",
    "    # Initial safety factor (can be adjusted)\n",
    "    z = stats.norm.ppf(0.95)\n",
    "    \n",
    "    # Safety stock\n",
    "    SS = z * std_demand * math.sqrt(L)\n",
    "    \n",
    "    # Base reorder point\n",
    "    r_base = DL + SS\n",
    "    \n",
    "    # Adjust for perishability\n",
    "    max_inv = mean_demand * m\n",
    "    if r_base + Q_base > max_inv:\n",
    "        Q_base = max_inv - r_base\n",
    "    \n",
    "    # Expected shortage per cycle\n",
    "    E_shortage = std_demand * math.sqrt(L) * (stats.norm.pdf(z) - z * (1 - stats.norm.cdf(z)))\n",
    "    \n",
    "    # Adjust safety factor to balance costs\n",
    "    optimal_z = stats.norm.ppf(p / (p + h + w))\n",
    "    \n",
    "    # Recalculate safety stock and reorder point\n",
    "    SS = optimal_z * std_demand * math.sqrt(L)\n",
    "    r_base = DL + SS\n",
    "    \n",
    "    return {\n",
    "        'Q_base': Q_base,\n",
    "        'r_base': r_base,\n",
    "        'EOQ': EOQ,\n",
    "        'safety_stock': SS,\n",
    "        'optimal_service_level': stats.norm.cdf(optimal_z),\n",
    "        'mean_demand': mean_demand,\n",
    "        'std_demand': std_demand\n",
    "    }\n",
    "\n",
    "df = pd.read_csv('RestaurantDataVets_All_2to5.csv')\n",
    "\n",
    "df['2to5'] = pd.to_numeric(df['2to5'], errors='coerce')\n",
    "\n",
    "# Remove any rows with NaN values in the '2to5' column\n",
    "df = df.dropna(subset=['2to5'])\n",
    "\n",
    "# Scale the demand data\n",
    "scale_factor = 1027.92  # Adjust this value as needed\n",
    "df['2to5_scaled'] = df['2to5'] / scale_factor\n",
    "\n",
    "\n",
    "params = {\n",
    "    'L': 1,\n",
    "    'm': 3,\n",
    "    'K': 100,\n",
    "    'h': 1,\n",
    "    'c': 5,\n",
    "    'w': 5,\n",
    "    'p': 20\n",
    "}\n",
    "\n",
    "results = calculate_rq_parameters(params, df['2to5_scaled'])\n",
    "print(\"Results (scaled):\")\n",
    "print(results)\n",
    "\n",
    "# Analyze demand patterns\n",
    "print(\"\\nDemand Analysis (unscaled):\")\n",
    "print(f\"Total days of data: {len(df)}\")\n",
    "print(f\"Days with zero demand: {(df['2to5'] == 0).sum()}\")\n",
    "print(f\"Maximum daily demand: {df['2to5'].max()}\")\n",
    "print(f\"Minimum non-zero daily demand: {df['2to5'][df['2to5'] > 0].min()}\")\n",
    "print(f\"Average daily demand: {df['2to5'].mean():.2f}\")\n",
    "print(f\"Standard deviation of daily demand: {df['2to5'].std():.2f}\")"
   ],
   "id": "e54364d781ef945c",
   "outputs": [
    {
     "name": "stdout",
     "output_type": "stream",
     "text": [
      "Results (scaled):\n",
      "{'Q_base': 1.2444392868481442, 'r_base': 1.3382320018873868, 'EOQ': 165.4542064879762, 'safety_stock': 0.3382285518575836, 'optimal_service_level': 0.7692307692307694, 'mean_demand': 1.0000034500298032, 'std_demand': 0.45935249242317755}\n",
      "\n",
      "Demand Analysis (unscaled):\n",
      "Total days of data: 1111\n",
      "Days with zero demand: 15\n",
      "Maximum daily demand: 2889.23\n",
      "Minimum non-zero daily demand: 225.3\n",
      "Average daily demand: 1027.92\n",
      "Standard deviation of daily demand: 472.18\n"
     ]
    }
   ],
   "execution_count": 5
  },
  {
   "metadata": {},
   "cell_type": "code",
   "outputs": [],
   "execution_count": null,
   "source": "",
   "id": "f4585bf35eda6448"
  }
 ],
 "metadata": {
  "kernelspec": {
   "display_name": "Python 3",
   "language": "python",
   "name": "python3"
  },
  "language_info": {
   "codemirror_mode": {
    "name": "ipython",
    "version": 2
   },
   "file_extension": ".py",
   "mimetype": "text/x-python",
   "name": "python",
   "nbconvert_exporter": "python",
   "pygments_lexer": "ipython2",
   "version": "2.7.6"
  }
 },
 "nbformat": 4,
 "nbformat_minor": 5
}
